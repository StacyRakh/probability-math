{
 "cells": [
  {
   "cell_type": "markdown",
   "id": "7429cbcf",
   "metadata": {},
   "source": [
    "### Из колоды в 52 карты извлекаются случайным образом 4 карты. a) Найти вероятность того, что все карты – крести. б) Найти вероятность, что среди 4-х карт окажется хотя бы один туз."
   ]
  },
  {
   "cell_type": "markdown",
   "id": "3af9c100",
   "metadata": {},
   "source": [
    "1а. Вероятность, что первая карта равна крести 13/52 = 1/4\n",
    "Вторая карта равна крести с веротностью 12/51\n",
    "Третья с вероятностью 11/50\n",
    "Четвертая с вероятностью 10/49\n"
   ]
  },
  {
   "cell_type": "markdown",
   "id": "5f94870d",
   "metadata": {},
   "source": [
    "2а. Вероятность того, что все четыре карты будут крести "
   ]
  },
  {
   "cell_type": "code",
   "execution_count": 5,
   "id": "64c19767",
   "metadata": {},
   "outputs": [
    {
     "data": {
      "text/plain": [
       "0.0026410564225690276"
      ]
     },
     "execution_count": 5,
     "metadata": {},
     "output_type": "execute_result"
    }
   ],
   "source": [
    "(13/52)*(12/51)*(11/50)*(10/49)"
   ]
  },
  {
   "cell_type": "markdown",
   "id": "c369df04",
   "metadata": {},
   "source": [
    "1б. Вероятность, что вытащат хотя бы одного туза возможна при следующих раскладах:\n",
    "а) 1 туз и 3 не туза или б) 2 туза и 2 не туза или в) 3 туза 1 не туз или г) 4 туза"
   ]
  },
  {
   "cell_type": "markdown",
   "id": "8417511a",
   "metadata": {},
   "source": [
    "2б. Вероятность, что вытащат хотя бы 1 туза"
   ]
  },
  {
   "cell_type": "code",
   "execution_count": 6,
   "id": "6210b0bd",
   "metadata": {},
   "outputs": [
    {
     "data": {
      "text/plain": [
       "0.06823529411764706"
      ]
     },
     "execution_count": 6,
     "metadata": {},
     "output_type": "execute_result"
    }
   ],
   "source": [
    "(1/13*48/51*47/50*46/49)+(4/52*3/51*48/50*47/49)+(4/52*3/51*2/50*48/49)+(4/52*3/51*2/50*1/49)"
   ]
  },
  {
   "cell_type": "markdown",
   "id": "2959a666",
   "metadata": {},
   "source": [
    "### 2. На входной двери подъезда установлен кодовый замок, содержащий десять кнопок с цифрами от 0 до 9. Код содержит три цифры, которые нужно нажать одновременно. Какова вероятность того, что человек, не знающий код, откроет дверь с первой попытки?"
   ]
  },
  {
   "cell_type": "markdown",
   "id": "cca43871",
   "metadata": {},
   "source": [
    "Согласно комбинаторике, все возможные сочетания из трех кнопок на десятизначном замке находятся по формле 10!/3!*(10-3)!"
   ]
  },
  {
   "cell_type": "markdown",
   "id": "f6f94582",
   "metadata": {},
   "source": [
    "При сокращении 10! и 7! получается "
   ]
  },
  {
   "cell_type": "code",
   "execution_count": 9,
   "id": "83af8825",
   "metadata": {},
   "outputs": [
    {
     "data": {
      "text/plain": [
       "120.0"
      ]
     },
     "execution_count": 9,
     "metadata": {},
     "output_type": "execute_result"
    }
   ],
   "source": [
    "8*9*10/(2*3)"
   ]
  },
  {
   "cell_type": "markdown",
   "id": "985933d5",
   "metadata": {},
   "source": [
    "Вероятность нажать правильный код = 1/120"
   ]
  },
  {
   "cell_type": "markdown",
   "id": "d081e21f",
   "metadata": {},
   "source": [
    "### 3. В ящике имеется 15 деталей, из которых 9 окрашены. Рабочий случайным образом извлекает 3 детали. Какова вероятность того, что все извлеченные детали окрашены?"
   ]
  },
  {
   "cell_type": "code",
   "execution_count": 12,
   "id": "5902b2f6",
   "metadata": {},
   "outputs": [
    {
     "name": "stdout",
     "output_type": "stream",
     "text": [
      "Вероятность извлечения окрашеной детали равна 0.1846153846153846\n"
     ]
    }
   ],
   "source": [
    "print(f'Вероятность извлечения окрашеной детали равна {9/15*8/14*7/13}')"
   ]
  },
  {
   "cell_type": "markdown",
   "id": "bf615751",
   "metadata": {},
   "source": [
    "### 4. В лотерее 100 билетов. Из них 2 выигрышных. Какова вероятность того, что 2 приобретенных билета окажутся выигрышными?"
   ]
  },
  {
   "cell_type": "code",
   "execution_count": 13,
   "id": "6d91a3b5",
   "metadata": {},
   "outputs": [
    {
     "name": "stdout",
     "output_type": "stream",
     "text": [
      "Вероятность что оба билета будут выигрышными равна 0.00020202020202020202\n"
     ]
    }
   ],
   "source": [
    "print(f'Вероятность что оба билета будут выигрышными равна {2/100*1/99}')"
   ]
  },
  {
   "cell_type": "code",
   "execution_count": null,
   "id": "dace625e",
   "metadata": {},
   "outputs": [],
   "source": []
  }
 ],
 "metadata": {
  "kernelspec": {
   "display_name": "Python 3 (ipykernel)",
   "language": "python",
   "name": "python3"
  },
  "language_info": {
   "codemirror_mode": {
    "name": "ipython",
    "version": 3
   },
   "file_extension": ".py",
   "mimetype": "text/x-python",
   "name": "python",
   "nbconvert_exporter": "python",
   "pygments_lexer": "ipython3",
   "version": "3.9.7"
  }
 },
 "nbformat": 4,
 "nbformat_minor": 5
}
