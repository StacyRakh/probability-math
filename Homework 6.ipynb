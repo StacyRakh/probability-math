{
 "cells": [
  {
   "cell_type": "markdown",
   "id": "ab20d94b",
   "metadata": {},
   "source": [
    "#### Известно, что генеральная совокупность распределена нормально со средним квадратическим отклонением, равным 16. Найти доверительный интервал для оценки математического ожидания a с надежностью 0.95, если выборочная средняя M = 80, а объем выборки n = 256."
   ]
  },
  {
   "cell_type": "code",
   "execution_count": 1,
   "id": "3f19aa55",
   "metadata": {},
   "outputs": [
    {
     "name": "stdout",
     "output_type": "stream",
     "text": [
      "Доверительный интервал (78.04;81.96)\n"
     ]
    }
   ],
   "source": [
    "import math\n",
    "a = 80 - 1.96*16/math.sqrt (256)\n",
    "b = 80+1.96*16/math.sqrt(256)\n",
    "print (f'Доверительный интервал ({a};{b})')"
   ]
  },
  {
   "cell_type": "markdown",
   "id": "20814282",
   "metadata": {},
   "source": [
    "#### В результате 10 независимых измерений некоторой величины X, выполненных с одинаковой точностью, получены опытные данные: 6.9, 6.1, 6.2, 6.8, 7.5, 6.3, 6.4, 6.9, 6.7, 6.1 Предполагая, что результаты измерений подчинены нормальному закону распределения вероятностей, оценить истинное значение величины X при помощи доверительного интервала, покрывающего это значение с доверительной вероятностью 0,95. "
   ]
  },
  {
   "cell_type": "code",
   "execution_count": 11,
   "id": "ce93b2c3",
   "metadata": {},
   "outputs": [
    {
     "name": "stdout",
     "output_type": "stream",
     "text": [
      "(6.267823367976163;6.912176632023835) данный интервал с вероятностью 95% накрывает истиное значение альфа измеряемой величины Х\n"
     ]
    }
   ],
   "source": [
    "data = [6.9, 6.1, 6.2, 6.8, 7.5, 6.3, 6.4, 6.9, 6.7, 6.1]\n",
    "m = sum(data)/len(data)\n",
    "datastd = [(x-m)**2 for x in data]\n",
    "std = math.sqrt(sum(datastd)/9)\n",
    "acc = 2.26*std/math.sqrt(10)\n",
    "a = m - acc\n",
    "b = m + acc\n",
    "print (f'({a};{b}) данный интервал с вероятностью 95% накрывает истиное значение альфа измеряемой величины Х')"
   ]
  },
  {
   "cell_type": "markdown",
   "id": "f26fa4b6",
   "metadata": {},
   "source": [
    "#### 3.Рост дочерей 175, 167, 154, 174, 178, 148, 160, 167, 169, 170 Рост матерей  178, 165, 165, 173, 168, 155, 160, 164, 178, 175 Используя эти данные построить 95% доверительный интервал для разности среднего роста родителей и детей."
   ]
  },
  {
   "cell_type": "code",
   "execution_count": 18,
   "id": "e7693e13",
   "metadata": {},
   "outputs": [
    {
     "name": "stdout",
     "output_type": "stream",
     "text": [
      "Искомый интервал имеет вид -2.6421851173196367;6.442185117319637\n"
     ]
    }
   ],
   "source": [
    "delta = [3,-2,11,-1,-10,7,0,-3,9,5]\n",
    "delta2 = [x**2 for x in delta]\n",
    "std = math.sqrt ((sum(delta2)-sum(delta)**2/10)/9)\n",
    "acc = 2.262*std/math.sqrt(10)\n",
    "a = sum(delta)/len(delta)\n",
    "print (f'Искомый интервал имеет вид {a-acc};{a+acc}')\n"
   ]
  },
  {
   "cell_type": "code",
   "execution_count": null,
   "id": "eae935e8",
   "metadata": {},
   "outputs": [],
   "source": []
  }
 ],
 "metadata": {
  "kernelspec": {
   "display_name": "Python 3 (ipykernel)",
   "language": "python",
   "name": "python3"
  },
  "language_info": {
   "codemirror_mode": {
    "name": "ipython",
    "version": 3
   },
   "file_extension": ".py",
   "mimetype": "text/x-python",
   "name": "python",
   "nbconvert_exporter": "python",
   "pygments_lexer": "ipython3",
   "version": "3.9.7"
  }
 },
 "nbformat": 4,
 "nbformat_minor": 5
}
