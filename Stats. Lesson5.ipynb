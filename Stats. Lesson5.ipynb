{
 "cells": [
  {
   "cell_type": "markdown",
   "id": "47dd1965",
   "metadata": {},
   "source": [
    "#### 1) Z -критерий используется, если дисперсия уже известна. В противном случае используется t-критерий"
   ]
  },
  {
   "cell_type": "markdown",
   "id": "3c2911d3",
   "metadata": {},
   "source": [
    "#### 2) Проведите тест гипотезы. Утверждается, что шарики для подшипников, изготовленные автоматическим станком, имеют средний диаметр 17 мм. Используя односторонний критерий с α=0,05, проверить эту гипотезу, если в выборке из n=100 шариков средний диаметр оказался равным 17.5 мм, а дисперсия известна и равна 4 кв. мм."
   ]
  },
  {
   "cell_type": "markdown",
   "id": "1fb7bc46",
   "metadata": {},
   "source": [
    "* Нулевая гипотеза: размер изготовленных шариков не будети значимо отличаться от заявленного \n",
    "* Альтернативная: различия будут, шарики принадлежат другой ГС"
   ]
  },
  {
   "cell_type": "markdown",
   "id": "6f9916d4",
   "metadata": {},
   "source": [
    "Используем Z - критерий"
   ]
  },
  {
   "cell_type": "code",
   "execution_count": 1,
   "id": "d80cacdf",
   "metadata": {},
   "outputs": [
    {
     "data": {
      "text/plain": [
       "0.2"
      ]
     },
     "execution_count": 1,
     "metadata": {},
     "output_type": "execute_result"
    }
   ],
   "source": [
    "import math\n",
    "sigma2 = 4\n",
    "n = 100\n",
    "se = math.sqrt(sigma2)/math.sqrt(n)\n",
    "se"
   ]
  },
  {
   "cell_type": "code",
   "execution_count": 2,
   "id": "82089f54",
   "metadata": {},
   "outputs": [
    {
     "data": {
      "text/plain": [
       "2.5"
      ]
     },
     "execution_count": 2,
     "metadata": {},
     "output_type": "execute_result"
    }
   ],
   "source": [
    "Z = (17.5-17)/se\n",
    "Z"
   ]
  },
  {
   "cell_type": "markdown",
   "id": "188ae48e",
   "metadata": {},
   "source": [
    "Т.к. Z = 2.5 не попадает в область значения менее 1.645 (для a=0.05), принимаем альтернативную гипотезу"
   ]
  },
  {
   "cell_type": "markdown",
   "id": "8dafca05",
   "metadata": {},
   "source": [
    "#### 3.Проведите тест гипотезы. Продавец утверждает, что средний вес пачки печенья составляет 200 г. Из партии извлечена выборка из 10 пачек. Вес каждой пачки составляет: 202, 203, 199, 197, 195, 201, 200, 204, 194, 190. Известно, что их веса распределены нормально. Верно ли утверждение продавца, если учитывать, что доверительная вероятность равна 99%? (Провести двусторонний тест.)"
   ]
  },
  {
   "cell_type": "code",
   "execution_count": 22,
   "id": "99f9788d",
   "metadata": {},
   "outputs": [
    {
     "data": {
      "text/plain": [
       "0.10651074037450894"
      ]
     },
     "execution_count": 22,
     "metadata": {},
     "output_type": "execute_result"
    }
   ],
   "source": [
    "weight = [202, 203, 199, 197, 195, 201, 200, 204, 194, 190]\n",
    "mu = sum(weight)/len(weight)\n",
    "weightx = [(x-mu)**2 for x in weight]\n",
    "sigma = math.sqrt (sum(weightx)/9)\n",
    "t = (200-mu)/sigma/math.sqrt(10)\n",
    "t"
   ]
  },
  {
   "cell_type": "markdown",
   "id": "b84b2aa8",
   "metadata": {},
   "source": [
    "Т.к tкр = 3,250 (для доверительного интервала 99% в случае двухстороннего теста р = 0.995, df = 9), что больше t эмп, принимается нулевая гипотеза (средний вес пачки равен 200г)"
   ]
  },
  {
   "cell_type": "markdown",
   "id": "4f1fc30d",
   "metadata": {},
   "source": [
    "#### 4) Есть ли статистически значимые различия в росте дочерей? Рост матерей 172, 177, 158, 170, 178,175, 164, 160, 169, 165 Рост взрослых дочерей: 173, 175, 162, 174, 175, 168, 155, 170, 160"
   ]
  },
  {
   "cell_type": "code",
   "execution_count": 26,
   "id": "63646631",
   "metadata": {},
   "outputs": [],
   "source": [
    "import scipy.stats as stats\n",
    "moms = [172, 177, 158, 170, 178,175, 164, 160, 169, 165]\n",
    "dots = [173, 175, 162, 174, 175, 168, 155, 170, 160]\n"
   ]
  },
  {
   "cell_type": "markdown",
   "id": "b962470e",
   "metadata": {},
   "source": [
    "Необходим критерий для связаных выборок, но в данном случае задание составлено некорректно (в выборке дочерей на 1 значение меньше, что значит, что попарное сравнение невозможно). Рассчитаем для незавыисимых выборок, что некорректно. "
   ]
  },
  {
   "cell_type": "code",
   "execution_count": 27,
   "id": "0527169d",
   "metadata": {},
   "outputs": [
    {
     "data": {
      "text/plain": [
       "Ttest_indResult(statistic=0.24400587215969016, pvalue=0.8101467126543231)"
      ]
     },
     "execution_count": 27,
     "metadata": {},
     "output_type": "execute_result"
    }
   ],
   "source": [
    "stats.ttest_ind(moms,dots)"
   ]
  },
  {
   "cell_type": "markdown",
   "id": "b8c03326",
   "metadata": {},
   "source": [
    "Уровень значимости больше 0.05, значимых различий нет "
   ]
  },
  {
   "cell_type": "code",
   "execution_count": null,
   "id": "49a1c884",
   "metadata": {},
   "outputs": [],
   "source": []
  }
 ],
 "metadata": {
  "kernelspec": {
   "display_name": "Python 3 (ipykernel)",
   "language": "python",
   "name": "python3"
  },
  "language_info": {
   "codemirror_mode": {
    "name": "ipython",
    "version": 3
   },
   "file_extension": ".py",
   "mimetype": "text/x-python",
   "name": "python",
   "nbconvert_exporter": "python",
   "pygments_lexer": "ipython3",
   "version": "3.9.7"
  }
 },
 "nbformat": 4,
 "nbformat_minor": 5
}
