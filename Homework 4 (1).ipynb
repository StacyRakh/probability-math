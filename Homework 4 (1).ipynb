{
 "cells": [
  {
   "cell_type": "markdown",
   "id": "2369eb4d",
   "metadata": {},
   "source": [
    "### Случайная непрерывная величина A имеет равномерное распределение на промежутке (200, 800]. Найдите ее среднее значение и дисперсию."
   ]
  },
  {
   "cell_type": "code",
   "execution_count": 4,
   "id": "8b285e2e",
   "metadata": {},
   "outputs": [
    {
     "name": "stdout",
     "output_type": "stream",
     "text": [
      "Среднее значение равно 500.0\n"
     ]
    }
   ],
   "source": [
    "M = (200+800)/2\n",
    "print (f'Среднее значение равно {M}')"
   ]
  },
  {
   "cell_type": "code",
   "execution_count": 5,
   "id": "b820ae37",
   "metadata": {},
   "outputs": [
    {
     "name": "stdout",
     "output_type": "stream",
     "text": [
      "Дисперсия равна 30000.0\n"
     ]
    }
   ],
   "source": [
    "sig2 = (800-200)**2/12\n",
    "print (f'Дисперсия равна {sig2}')"
   ]
  },
  {
   "cell_type": "markdown",
   "id": "37fe4e01",
   "metadata": {},
   "source": [
    "### О случайной непрерывной равномерно распределенной величине B известно, что ее дисперсия равна 0.2. Можно ли найти правую границу величины B и ее среднее значение зная, что левая граница равна 0.5? Если да, найдите ее."
   ]
  },
  {
   "cell_type": "markdown",
   "id": "5f5d7a27",
   "metadata": {},
   "source": [
    "s2 = (a-0.5)**2/12\n",
    "\n"
   ]
  },
  {
   "cell_type": "markdown",
   "id": "fd439c7d",
   "metadata": {},
   "source": [
    "(a-0.5)**2 = 2.4"
   ]
  },
  {
   "cell_type": "code",
   "execution_count": 20,
   "id": "97f9c81b",
   "metadata": {},
   "outputs": [
    {
     "data": {
      "text/plain": [
       "(-1.0491933384829668, 2.049193338482967)"
      ]
     },
     "execution_count": 20,
     "metadata": {},
     "output_type": "execute_result"
    }
   ],
   "source": [
    "import math\n",
    "b = math.sqrt(2.4)\n",
    "a = 0.5-b\n",
    "c = 0.5+b\n",
    "a,c\n"
   ]
  },
  {
   "cell_type": "code",
   "execution_count": 21,
   "id": "a6f49f17",
   "metadata": {},
   "outputs": [
    {
     "name": "stdout",
     "output_type": "stream",
     "text": [
      "Правая граница равна 2.049193338482967, так как больше 0.5\n"
     ]
    }
   ],
   "source": [
    "print (f'Правая граница равна {c}, так как больше 0.5')"
   ]
  },
  {
   "cell_type": "code",
   "execution_count": 23,
   "id": "399e98f1",
   "metadata": {},
   "outputs": [
    {
     "name": "stdout",
     "output_type": "stream",
     "text": [
      "Среднее равно 1.2745966692414834\n"
     ]
    }
   ],
   "source": [
    "M = (c+0.5)/2\n",
    "print (f'Среднее равно {M}')"
   ]
  },
  {
   "cell_type": "markdown",
   "id": "e229e19e",
   "metadata": {},
   "source": [
    "### Непрерывная случайная величина X распределена нормально и задана плотностью распределения \n",
    "f(x) = (1 / (4 * sqrt(2pi))) * exp((-(x+2)**2) / 32)"
   ]
  },
  {
   "cell_type": "markdown",
   "id": "74213c16",
   "metadata": {},
   "source": [
    "Согласно формуле плотности распределения для нормального распределения, найдем нужные показатели из данной функции"
   ]
  },
  {
   "cell_type": "code",
   "execution_count": 25,
   "id": "f92da496",
   "metadata": {},
   "outputs": [
    {
     "name": "stdout",
     "output_type": "stream",
     "text": [
      "M(x) = -2\n",
      "2sigma**2 = 32\n"
     ]
    }
   ],
   "source": [
    "print (f'M(x) = -2')\n",
    "print(f'2sigma**2 = 32')\n"
   ]
  },
  {
   "cell_type": "markdown",
   "id": "50fc52f9",
   "metadata": {},
   "source": [
    "D(x) = 16"
   ]
  },
  {
   "cell_type": "markdown",
   "id": "3c7deb29",
   "metadata": {},
   "source": [
    "std(x)=+-4"
   ]
  },
  {
   "cell_type": "markdown",
   "id": "323909b8",
   "metadata": {},
   "source": [
    "### Рост взрослого населения города X имеет нормальное распределение. Причем, средний рост равен 174 см, а среднее квадратичное отклонение равно 8 см.\n",
    "Какова вероятность того, что случайным образом выбранный взрослый человек имеет рост:"
   ]
  },
  {
   "cell_type": "markdown",
   "id": "62fd8825",
   "metadata": {},
   "source": [
    "Воспользуемся формулой Z= (X-μ)/σ и z таблицами"
   ]
  },
  {
   "cell_type": "markdown",
   "id": "2fc6e946",
   "metadata": {},
   "source": [
    "а). больше 182 см"
   ]
  },
  {
   "cell_type": "code",
   "execution_count": 26,
   "id": "051fa02e",
   "metadata": {},
   "outputs": [
    {
     "data": {
      "text/plain": [
       "1.0"
      ]
     },
     "execution_count": 26,
     "metadata": {},
     "output_type": "execute_result"
    }
   ],
   "source": [
    "z = (182-174)/8\n",
    "z"
   ]
  },
  {
   "cell_type": "code",
   "execution_count": 32,
   "id": "2fa18fd3",
   "metadata": {},
   "outputs": [
    {
     "name": "stdout",
     "output_type": "stream",
     "text": [
      "Вероятность того, что рост выбранного человека будет больше 182 см равна 15.87 %\n"
     ]
    }
   ],
   "source": [
    "print(f'Вероятность того, что рост выбранного человека будет больше 182 см равна {round((1-0.84134)*100,2)} %')"
   ]
  },
  {
   "cell_type": "markdown",
   "id": "8fc3fca3",
   "metadata": {},
   "source": [
    "б). больше 190 см"
   ]
  },
  {
   "cell_type": "code",
   "execution_count": 33,
   "id": "b496e146",
   "metadata": {},
   "outputs": [
    {
     "name": "stdout",
     "output_type": "stream",
     "text": [
      "Вероятность того, что рост выбранного человека будет больше 190 см равна 2.28 %\n"
     ]
    }
   ],
   "source": [
    "print(f'Вероятность того, что рост выбранного человека будет больше 190 см равна {round((1-0.97725)*100,2)} %')"
   ]
  },
  {
   "cell_type": "markdown",
   "id": "4fdf9374",
   "metadata": {},
   "source": [
    "в). от 166 см до 190 см"
   ]
  },
  {
   "cell_type": "code",
   "execution_count": 37,
   "id": "53940fed",
   "metadata": {},
   "outputs": [
    {
     "name": "stdout",
     "output_type": "stream",
     "text": [
      "Вероятность того, что рост выбранного человека будет 166-190 см равна 81.86 %\n"
     ]
    }
   ],
   "source": [
    "print(f'Вероятность того, что рост выбранного человека будет 166-190 см равна {round((1-(1-0.97725)-0.15866)*100,2)} %')"
   ]
  },
  {
   "cell_type": "markdown",
   "id": "11d27763",
   "metadata": {},
   "source": [
    "г). от 166 см до 182 см"
   ]
  },
  {
   "cell_type": "code",
   "execution_count": 38,
   "id": "72139021",
   "metadata": {},
   "outputs": [
    {
     "name": "stdout",
     "output_type": "stream",
     "text": [
      "Вероятность того, что рост выбранного человека будет 166-182 см равна 68.27 %\n"
     ]
    }
   ],
   "source": [
    "print(f'Вероятность того, что рост выбранного человека будет 166-182 см равна {round((1-(1-0.84134)-0.15866)*100,2)} %')"
   ]
  },
  {
   "cell_type": "markdown",
   "id": "77166840",
   "metadata": {},
   "source": [
    "д). от 158 см до 190 см"
   ]
  },
  {
   "cell_type": "code",
   "execution_count": 39,
   "id": "99c0cf99",
   "metadata": {},
   "outputs": [
    {
     "name": "stdout",
     "output_type": "stream",
     "text": [
      "Вероятность того, что рост выбранного человека будет 158-190 см равна 95.45 %\n"
     ]
    }
   ],
   "source": [
    "print(f'Вероятность того, что рост выбранного человека будет 158-190 см равна {round((1-(1-0.97725)-0.02275)*100,2)} %')"
   ]
  },
  {
   "cell_type": "markdown",
   "id": "f37151a8",
   "metadata": {},
   "source": [
    "е). не выше 150 см или не ниже 190 см"
   ]
  },
  {
   "cell_type": "code",
   "execution_count": 41,
   "id": "e21091a7",
   "metadata": {},
   "outputs": [
    {
     "name": "stdout",
     "output_type": "stream",
     "text": [
      "Вероятность того, что рост выбранного человека будет не выше 150 см или не ниже 190 см равна 2.41 %\n"
     ]
    }
   ],
   "source": [
    "print(f'Вероятность того, что рост выбранного человека будет не выше 150 см или не ниже 190 см равна {round((0.00135+(1-0.97725))*100,2)} %')"
   ]
  },
  {
   "cell_type": "markdown",
   "id": "675690d8",
   "metadata": {},
   "source": [
    "ё). не выше 150 см или не ниже 198 см"
   ]
  },
  {
   "cell_type": "code",
   "execution_count": 46,
   "id": "f65219bb",
   "metadata": {},
   "outputs": [
    {
     "name": "stdout",
     "output_type": "stream",
     "text": [
      "Вероятность того, что рост выбранного человека будет не выше 150 или не ниже 198 см равна 0.27 %\n"
     ]
    }
   ],
   "source": [
    "print(f'Вероятность того, что рост выбранного человека будет не выше 150 или не ниже 198 см равна {round((0.00135+1-0.99865)*100,2)} %')"
   ]
  },
  {
   "cell_type": "markdown",
   "id": "ca78ec89",
   "metadata": {},
   "source": [
    "ж). ниже 166 см."
   ]
  },
  {
   "cell_type": "code",
   "execution_count": 48,
   "id": "c5b0cd1d",
   "metadata": {},
   "outputs": [
    {
     "name": "stdout",
     "output_type": "stream",
     "text": [
      "Вероятность того, что рост выбранного человека будет ниже 166 см равна 15.87 %\n"
     ]
    }
   ],
   "source": [
    "print(f'Вероятность того, что рост выбранного человека будет ниже 166 см равна {round(0.15866*100,2)} %')"
   ]
  },
  {
   "cell_type": "markdown",
   "id": "30d98ff5",
   "metadata": {},
   "source": [
    "### 5. На сколько сигм (средних квадратичных отклонений) отклоняется рост человека, равный 190 см, от математического ожидания роста в популяции, в которой M(X) = 178 см и D(X) = 25 кв.см?"
   ]
  },
  {
   "cell_type": "code",
   "execution_count": 50,
   "id": "7a25a4a3",
   "metadata": {},
   "outputs": [
    {
     "name": "stdout",
     "output_type": "stream",
     "text": [
      "На 2.4 сигм\n"
     ]
    }
   ],
   "source": [
    "print (f'На {(190-178)/5} сигм')"
   ]
  },
  {
   "cell_type": "code",
   "execution_count": null,
   "id": "78c01a9c",
   "metadata": {},
   "outputs": [],
   "source": []
  }
 ],
 "metadata": {
  "kernelspec": {
   "display_name": "Python 3 (ipykernel)",
   "language": "python",
   "name": "python3"
  },
  "language_info": {
   "codemirror_mode": {
    "name": "ipython",
    "version": 3
   },
   "file_extension": ".py",
   "mimetype": "text/x-python",
   "name": "python",
   "nbconvert_exporter": "python",
   "pygments_lexer": "ipython3",
   "version": "3.9.7"
  }
 },
 "nbformat": 4,
 "nbformat_minor": 5
}
