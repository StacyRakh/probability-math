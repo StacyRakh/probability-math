{
 "cells": [
  {
   "cell_type": "markdown",
   "id": "7c55cb3d",
   "metadata": {},
   "source": [
    "#### Даны значения зарплат из выборки выпускников: 100, 80, 75, 77, 89, 33, 45, 25, 65, 17, 30, 24, 57, 55, 70, 75, 65, 84, 90, 150. Посчитать (желательно без использования статистических методов наподобие std, var, mean) среднее арифметическое, среднее квадратичное отклонение, смещенную и несмещенную оценки дисперсий для данной выборки."
   ]
  },
  {
   "cell_type": "code",
   "execution_count": 16,
   "id": "d9f71738",
   "metadata": {},
   "outputs": [],
   "source": [
    "salary = [100, 80, 75, 77, 89, 33, 45, 25, 65, 17, 30, 24, 57, 55, 70, 75, 65, 84, 90, 150]\n",
    "import numpy as np"
   ]
  },
  {
   "cell_type": "code",
   "execution_count": null,
   "id": "8ce7143a",
   "metadata": {},
   "outputs": [],
   "source": [
    "Формула для нахождения среднего"
   ]
  },
  {
   "cell_type": "code",
   "execution_count": 17,
   "id": "4a76bb27",
   "metadata": {},
   "outputs": [
    {
     "data": {
      "text/plain": [
       "65.3"
      ]
     },
     "execution_count": 17,
     "metadata": {},
     "output_type": "execute_result"
    }
   ],
   "source": [
    "mean = sum(salary)/len(salary)\n",
    "mean"
   ]
  },
  {
   "cell_type": "markdown",
   "id": "0d811bc4",
   "metadata": {},
   "source": [
    "Предварительные вычисления для дисперсии"
   ]
  },
  {
   "cell_type": "code",
   "execution_count": 28,
   "id": "0c3390b8",
   "metadata": {},
   "outputs": [],
   "source": [
    "a = []\n",
    "for x in salary:\n",
    "    a.append((x-mean)**2)\n",
    "\n"
   ]
  },
  {
   "cell_type": "markdown",
   "id": "4575de44",
   "metadata": {},
   "source": [
    "Смещенная дисперсия"
   ]
  },
  {
   "cell_type": "code",
   "execution_count": 23,
   "id": "485ec025",
   "metadata": {},
   "outputs": [
    {
     "data": {
      "text/plain": [
       "950.11"
      ]
     },
     "execution_count": 23,
     "metadata": {},
     "output_type": "execute_result"
    }
   ],
   "source": [
    "sigma2 = sum(a)/len(salary)\n",
    "sigma2"
   ]
  },
  {
   "cell_type": "markdown",
   "id": "b33a429b",
   "metadata": {},
   "source": [
    "Несмещенная дисперсия"
   ]
  },
  {
   "cell_type": "code",
   "execution_count": 25,
   "id": "bb606d6d",
   "metadata": {},
   "outputs": [
    {
     "data": {
      "text/plain": [
       "1000.1157894736842"
      ]
     },
     "execution_count": 25,
     "metadata": {},
     "output_type": "execute_result"
    }
   ],
   "source": [
    "sigma_not_moved = sum(a)/(len(salary)-1)\n",
    "sigma_not_moved"
   ]
  },
  {
   "cell_type": "markdown",
   "id": "8ea0bd69",
   "metadata": {},
   "source": [
    "Стандартное отклонение"
   ]
  },
  {
   "cell_type": "code",
   "execution_count": 26,
   "id": "43435e7e",
   "metadata": {},
   "outputs": [
    {
     "data": {
      "text/plain": [
       "30.823854398825596"
      ]
     },
     "execution_count": 26,
     "metadata": {},
     "output_type": "execute_result"
    }
   ],
   "source": [
    "import math\n",
    "std = math.sqrt(sigma2)\n",
    "std"
   ]
  },
  {
   "cell_type": "code",
   "execution_count": 27,
   "id": "8db10684",
   "metadata": {},
   "outputs": [
    {
     "data": {
      "text/plain": [
       "31.624607341019814"
      ]
     },
     "execution_count": 27,
     "metadata": {},
     "output_type": "execute_result"
    }
   ],
   "source": [
    "std1 = math.sqrt(sigma_not_moved)\n",
    "std1"
   ]
  },
  {
   "cell_type": "markdown",
   "id": "75d501e4",
   "metadata": {},
   "source": [
    "#### В  первом ящике находится 8 мячей, из которых 5 - белые. Во втором ящике - 12 мячей, из которых 5 белых. Из первого ящика вытаскивают случайным образом два мяча, из второго - 4. Какова вероятность того, что 3 мяча белые?"
   ]
  },
  {
   "cell_type": "markdown",
   "id": "5eb72768",
   "metadata": {},
   "source": [
    "По формуле Бернули найдем вероятности следующий событий:\n",
    "2 белых из 1 ящика и 1 белый из второго;\n",
    "1 белый из 1 ящика и 2 белых из второго\n",
    "3 белых из 2 ящика.\n",
    "После этого сложим эти вероятности."
   ]
  },
  {
   "cell_type": "code",
   "execution_count": 30,
   "id": "c9433cab",
   "metadata": {},
   "outputs": [
    {
     "data": {
      "text/plain": [
       "0.028806584362139915"
      ]
     },
     "execution_count": 30,
     "metadata": {},
     "output_type": "execute_result"
    }
   ],
   "source": [
    "a = math.factorial(2)/((math.factorial(2)*math.factorial(0))*(5/8**2)*(3/8**0))*4*5/12*(7/12**3)\n",
    "a"
   ]
  },
  {
   "cell_type": "code",
   "execution_count": 32,
   "id": "1d6a3917",
   "metadata": {},
   "outputs": [
    {
     "data": {
      "text/plain": [
       "0.004747178819444445"
      ]
     },
     "execution_count": 32,
     "metadata": {},
     "output_type": "execute_result"
    }
   ],
   "source": [
    "b = 2*(5/8**1)*(3/8**1)*6*(5/12**2)*(7/12**2)\n",
    "b"
   ]
  },
  {
   "cell_type": "code",
   "execution_count": 44,
   "id": "f541fc07",
   "metadata": {},
   "outputs": [
    {
     "data": {
      "text/plain": [
       "0.001582392939814815"
      ]
     },
     "execution_count": 44,
     "metadata": {},
     "output_type": "execute_result"
    }
   ],
   "source": [
    "c = math.factorial(2)/(math.factorial(2)*math.factorial(0))*(5/8**0)*(3/8**2)*4*(5/12**3)*(7/12)\n",
    "c"
   ]
  },
  {
   "cell_type": "code",
   "execution_count": 45,
   "id": "ed6aa942",
   "metadata": {},
   "outputs": [
    {
     "data": {
      "text/plain": [
       "0.03513615612139918"
      ]
     },
     "execution_count": 45,
     "metadata": {},
     "output_type": "execute_result"
    }
   ],
   "source": [
    "p = a+b+c\n",
    "p"
   ]
  },
  {
   "cell_type": "markdown",
   "id": "e059f430",
   "metadata": {},
   "source": [
    "#### На соревновании по биатлону один из трех спортсменов стреляет и попадает в мишень. Вероятность попадания для первого спортсмена равна 0.9, для второго — 0.8, для третьего — 0.6. Найти вероятность того, что выстрел произведен: a). первым спортсменом б). вторым спортсменом в). третьим спортсменом."
   ]
  },
  {
   "cell_type": "markdown",
   "id": "9ae68766",
   "metadata": {},
   "source": [
    "Вероятность попадания в мишень "
   ]
  },
  {
   "cell_type": "code",
   "execution_count": 47,
   "id": "d357828b",
   "metadata": {},
   "outputs": [
    {
     "data": {
      "text/plain": [
       "0.7666666666666666"
      ]
     },
     "execution_count": 47,
     "metadata": {},
     "output_type": "execute_result"
    }
   ],
   "source": [
    "p = 1/3*0.9+1/3*0.8+1/3*0.6\n",
    "p"
   ]
  },
  {
   "cell_type": "markdown",
   "id": "d3fff023",
   "metadata": {},
   "source": [
    "Попадание первого стрелка"
   ]
  },
  {
   "cell_type": "code",
   "execution_count": 48,
   "id": "47214740",
   "metadata": {},
   "outputs": [
    {
     "data": {
      "text/plain": [
       "0.391304347826087"
      ]
     },
     "execution_count": 48,
     "metadata": {},
     "output_type": "execute_result"
    }
   ],
   "source": [
    "1/3*0.9/p\n"
   ]
  },
  {
   "cell_type": "markdown",
   "id": "6e6d0c03",
   "metadata": {},
   "source": [
    "Попадание второго стрелка"
   ]
  },
  {
   "cell_type": "code",
   "execution_count": 49,
   "id": "f6254449",
   "metadata": {},
   "outputs": [
    {
     "data": {
      "text/plain": [
       "0.3478260869565218"
      ]
     },
     "execution_count": 49,
     "metadata": {},
     "output_type": "execute_result"
    }
   ],
   "source": [
    "1/3*0.8/p"
   ]
  },
  {
   "cell_type": "markdown",
   "id": "5636a4a3",
   "metadata": {},
   "source": [
    "Попадание третьего стрелка"
   ]
  },
  {
   "cell_type": "code",
   "execution_count": 50,
   "id": "b60c41f5",
   "metadata": {},
   "outputs": [
    {
     "data": {
      "text/plain": [
       "0.2608695652173913"
      ]
     },
     "execution_count": 50,
     "metadata": {},
     "output_type": "execute_result"
    }
   ],
   "source": [
    "1/3*0.6/p"
   ]
  },
  {
   "cell_type": "markdown",
   "id": "5688c73c",
   "metadata": {},
   "source": [
    "#### В университет на факультеты A и B поступило равное количество студентов, а на факультет C студентов поступило столько же, сколько на A и B вместе. Вероятность того, что студент факультета A сдаст первую сессию, равна 0.8. Для студента факультета B эта вероятность равна 0.7, а для студента факультета C - 0.9. Студент сдал первую сессию. Какова вероятность, что он учится: a). на факультете A б). на факультете B в). на факультете C?"
   ]
  },
  {
   "cell_type": "markdown",
   "id": "7e896bd3",
   "metadata": {},
   "source": [
    "Вероятность сдать сессию"
   ]
  },
  {
   "cell_type": "code",
   "execution_count": 53,
   "id": "25f60966",
   "metadata": {},
   "outputs": [],
   "source": [
    "p = 1/4*0.8+1/4*0.7+1/2*0.9"
   ]
  },
  {
   "cell_type": "markdown",
   "id": "6fe7e81b",
   "metadata": {},
   "source": [
    "На факультете А"
   ]
  },
  {
   "cell_type": "code",
   "execution_count": 55,
   "id": "ef88fe8d",
   "metadata": {},
   "outputs": [
    {
     "data": {
      "text/plain": [
       "0.24242424242424246"
      ]
     },
     "execution_count": 55,
     "metadata": {},
     "output_type": "execute_result"
    }
   ],
   "source": [
    "1/4*0.8/p"
   ]
  },
  {
   "cell_type": "markdown",
   "id": "93b9e896",
   "metadata": {},
   "source": [
    "На факультете B "
   ]
  },
  {
   "cell_type": "code",
   "execution_count": 56,
   "id": "38e6fd7b",
   "metadata": {},
   "outputs": [
    {
     "data": {
      "text/plain": [
       "0.21212121212121213"
      ]
     },
     "execution_count": 56,
     "metadata": {},
     "output_type": "execute_result"
    }
   ],
   "source": [
    "1/4*0.7/p"
   ]
  },
  {
   "cell_type": "markdown",
   "id": "73924ea5",
   "metadata": {},
   "source": [
    "На факультете С"
   ]
  },
  {
   "cell_type": "code",
   "execution_count": 58,
   "id": "e07b240b",
   "metadata": {},
   "outputs": [
    {
     "data": {
      "text/plain": [
       "0.5454545454545455"
      ]
     },
     "execution_count": 58,
     "metadata": {},
     "output_type": "execute_result"
    }
   ],
   "source": [
    "1/2*0.9/p"
   ]
  },
  {
   "cell_type": "markdown",
   "id": "31157317",
   "metadata": {},
   "source": [
    "#### Устройство состоит из трех деталей. Для первой детали вероятность выйти из строя в первый месяц равна 0.1, для второй - 0.2, для третьей - 0.25. Какова вероятность того, что в первый месяц выйдут из строя: а). все детали б). только две детали в). хотя бы одна деталь г). от одной до двух деталей?"
   ]
  },
  {
   "cell_type": "markdown",
   "id": "8f52ae20",
   "metadata": {},
   "source": [
    "Вероятность, что все детали выйдут из строя "
   ]
  },
  {
   "cell_type": "code",
   "execution_count": 59,
   "id": "64304439",
   "metadata": {},
   "outputs": [
    {
     "data": {
      "text/plain": [
       "0.005000000000000001"
      ]
     },
     "execution_count": 59,
     "metadata": {},
     "output_type": "execute_result"
    }
   ],
   "source": [
    "0.1*0.2*0.25"
   ]
  },
  {
   "cell_type": "markdown",
   "id": "8804cf4f",
   "metadata": {},
   "source": [
    "Вероятность, что выйдет две детали"
   ]
  },
  {
   "cell_type": "code",
   "execution_count": 61,
   "id": "b67c4f65",
   "metadata": {},
   "outputs": [
    {
     "data": {
      "text/plain": [
       "0.08000000000000002"
      ]
     },
     "execution_count": 61,
     "metadata": {},
     "output_type": "execute_result"
    }
   ],
   "source": [
    "0.1*0.2*0.75+0.1*0.8*0.25+0.9*0.2*0.25"
   ]
  },
  {
   "cell_type": "markdown",
   "id": "110cca83",
   "metadata": {},
   "source": [
    "Вероятность, что ни одна деталь не выйдет из строя"
   ]
  },
  {
   "cell_type": "code",
   "execution_count": 62,
   "id": "daf15b64",
   "metadata": {},
   "outputs": [
    {
     "data": {
      "text/plain": [
       "0.54"
      ]
     },
     "execution_count": 62,
     "metadata": {},
     "output_type": "execute_result"
    }
   ],
   "source": [
    "0.9*0.8*0.75"
   ]
  },
  {
   "cell_type": "markdown",
   "id": "fe72dfe4",
   "metadata": {},
   "source": [
    "Вероятность, что одна из деталей выйдет из строя \n",
    "1-0.54 = 0.46"
   ]
  },
  {
   "cell_type": "code",
   "execution_count": null,
   "id": "9eb5804f",
   "metadata": {},
   "outputs": [],
   "source": []
  }
 ],
 "metadata": {
  "kernelspec": {
   "display_name": "Python 3 (ipykernel)",
   "language": "python",
   "name": "python3"
  },
  "language_info": {
   "codemirror_mode": {
    "name": "ipython",
    "version": 3
   },
   "file_extension": ".py",
   "mimetype": "text/x-python",
   "name": "python",
   "nbconvert_exporter": "python",
   "pygments_lexer": "ipython3",
   "version": "3.9.7"
  }
 },
 "nbformat": 4,
 "nbformat_minor": 5
}
